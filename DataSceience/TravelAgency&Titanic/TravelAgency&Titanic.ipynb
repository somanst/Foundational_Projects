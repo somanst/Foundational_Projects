{
 "cells": [
  {
   "cell_type": "markdown",
   "metadata": {},
   "source": [
    "# AIN 214 - PA2 - FALL 2023\n",
    "\n",
    "BELOW MD CELLS CONTAIN THE QUESTIONS YOU ARE ASKED TO IMPLEMENT WITHIN THE CONTEXT OF THIS HW. PLEASE FILL IN THE CELLS FOR THE ANSWERS RIGHT BELOW THE MD CELL OF THE QUESTION. YOU CAN ADD AS MANY CELLS AS YOU WANT, BE IT CODE OR MD, SO LONG AS YOU PROVIDE AN UNDERSTANDABLE AND TRACBLE REPORTING. PLEASE ADD COMMENTS ON YOUR CODES. ALSO, FILL IN MD CELLS WHERE YOU ARE ASKED YO COMMENT ON YOUR RESULTS OR EPXLAIN YOUR REASONING. ALSO, PLEASE DO NO HESITATE TO USE THEM FOR YOUR OWN REPORTING PURPOSES. PLEASE KEEP IN MIND THAT REPORTING IS A KEY STEP IN DATA SCIENCE.\n",
    "\n",
    "Deadline: 17.11.2023 (23:59:59)\n",
    "\n",
    "Submission: Submit your Jupyter Notebooks via https://submit.cs.hacettepe.edu.tr/"
   ]
  },
  {
   "cell_type": "markdown",
   "metadata": {},
   "source": [
    "# THE STUDENT INFO\n",
    "# Student Name: Adam Sattout\n",
    "# Student ID: 2220765061"
   ]
  },
  {
   "cell_type": "code",
   "execution_count": 212,
   "metadata": {},
   "outputs": [],
   "source": [
    "import sqlite3 as sql\n",
    "import pandas as pd\n",
    "import numpy as np\n",
    "import matplotlib.pyplot as plt\n",
    "import seaborn as sns"
   ]
  },
  {
   "cell_type": "markdown",
   "metadata": {},
   "source": [
    "# 1st SET OF QUESTIONS: Skyward Travel Agency Data Management Project\n",
    "\n",
    "Skyward is a premier travel agency aiming to provide seamless experiences for its clients. As business is booming, the agency has a myriad of data points to keep track of, and they need an efficient way to manage it all. Here's what they're dealing with:\n",
    "\n",
    "- **Clients' Database**: Skyward has a growing list of clients. For each client, they maintain records of their full name, contact email, and phone number. Every client is assigned a unique client ID for efficient tracking and personalized service.\n",
    "\n",
    "- **Airline Partnerships**: Skyward has collaborations with several airline companies, each identified by a unique airline ID. Beyond just names, they have comprehensive details of all the flights offered by these airline companies. This flight data includes flight numbers, associated airline IDs, departure cities, destinations, and dates of operation.\n",
    "\n",
    "- **Hotel Affiliations**: Skyward's clients need places to stay, leading to collaborations with multiple hotels. Each hotel is cataloged with a unique ID, alongside its name, geographical location, and a client feedback rating ranging from 1 to 5.\n",
    "\n",
    "- **Travel Bookings**: Skyward's primary service involves facilitating travel bookings. Every booking, be it for a flight or hotel, gets recorded. Flight bookings include the specific flight number, the client's ID making the booking, and the booking date. Hotel bookings aren't any different with records of the hotel ID, the client's ID, and the duration of stay (check-in and check-out dates).\n",
    "\n",
    "- **Feedback Mechanism**: Feedback drives Skyward's quality assurance. Clients are encouraged to leave reviews post their trips. For airlines, each review captures the client's ID, the reviewed airline's ID, and the feedback text. Hotel feedback mirrors this, substituting airlines for hotels.\n",
    "\n",
    "**Data Provision:**\n",
    "You are provided with unnormalized `feedback_details_df` and `bookings_df` datasets in the form of CSV files.\n",
    "\n",
    "**Your Task**:\n",
    "\n",
    "You should design your own DB schema meeting the above-stated constraints. There are multiple ways to design your tables; you only need to ensure that the design fits the outlined requirements. Begin by clearly defining your schema as tables. Once the schema is established, you will tackle a set of SQL tasks that will be provided separately. The SQL tasks will involve writing queries to extract, modify, or add data based on the designed schema. Good luck! \n",
    "\n",
    "**Note: Use sqite3 python package for DB**\n"
   ]
  },
  {
   "cell_type": "markdown",
   "metadata": {},
   "source": [
    "## Q1. Design your schema as tables. Draw the necessary tables with the appropriate attributes. State the primary keys, foreign keys (and their references). Create the tables in your schema in the database. (10 Points)\n",
    "\n",
    "There is no single soluion here, come up with your own design."
   ]
  },
  {
   "cell_type": "markdown",
   "metadata": {},
   "source": [
    "\\<**your design here**\\>\n",
    "\n",
    "## Clients Table:\n",
    "\n",
    "| Field         | Type/Constraints |                          \n",
    "|---------------|------------------|\n",
    "| CustomerID            | PK, int          |                         \n",
    "| CustomerName          | text             |                         \n",
    "| CustomerEmail         | text             |                                      \n",
    "| CustomerPhone  | text              |                          \n",
    "\n",
    "\n",
    "## Airline Relationships Table:\n",
    "\n",
    "| Field         | Type/Constraints |                          \n",
    "|---------------|------------------|\n",
    "| AirlineID            | PK, int          |  \n",
    "\n",
    "\n",
    "## Flights Table:\n",
    "\n",
    "| Field         | Type/Constraints |                          \n",
    "|---------------|------------------|\n",
    "| AirlineID            | FK REFRENCES AIRLINE RELATIONSHIPS(AIRLINEID), int          |               \n",
    "| FlightID          | PK, int             |                         \n",
    "| Flight_Departure         | text             |                                      \n",
    "| Flight_Destination  | text              |  \n",
    "| Flight_Date  | text              |\n",
    "\n",
    "## Hotel Affiliations Table:\n",
    "\n",
    "| Field         | Type/Constraints |                          \n",
    "|---------------|------------------|\n",
    "| HotelID            | PK, int          |                         \n",
    "| HotelName          | text             |                         \n",
    "| HotelLocation         | text             |                                      \n",
    "| HotelRating  | int              |  \n",
    "\n",
    "## Airline Travel Bookings Table:\n",
    "\n",
    "| Field         | Type/Constraints |                          \n",
    "|---------------|------------------|\n",
    "| CustomerID         | FK REFRENCES Clients(CustomerID), int             |   \n",
    "| FlightID            | FK REFRENCES Flights(FlightID), int          |                           \n",
    "| Flight_Date         | text             | \n",
    "\n",
    "## Hotel Travel Bookings Table:\n",
    "\n",
    "| Field         | Type/Constraints |                          \n",
    "|---------------|------------------|\n",
    "| CustomerID         | FK REFRENCES Clients(CustomerID), int             |  \n",
    "| HotelID            | FK REFRENCES Hotel_Affiliations(HotelID, int          |                               \n",
    "\n",
    "## Airline Feedback Table:\n",
    "\n",
    "| Field         | Type/Constraints |                          \n",
    "|---------------|------------------|\n",
    "| FeedbackID         | PK, int             |  \n",
    "| CustomerID         | FK REFRENCES Clients(CustomerID), int             |  \n",
    "| FlightID            | FK REFRENCES Flights(Flights), int          |                       \n",
    "| FeedbackID         | text             |\n",
    "\n",
    "## Hotel Feedback Table:\n",
    "\n",
    "| Field         | Type/Constraints |                          \n",
    "|---------------|------------------|\n",
    "| FeedbackID         | PK, int             |  \n",
    "| CustomerID         | FK REFRENCES Clients(CustomerID), int             |  \n",
    "| HotelID            | FK REFRENCES Hotel_Affiliations(HotelID), int          |                      \n",
    "| FeedbackID         | text             |                                      \n",
    "                                 "
   ]
  },
  {
   "cell_type": "code",
   "execution_count": 213,
   "metadata": {},
   "outputs": [
    {
     "name": "stdout",
     "output_type": "stream",
     "text": [
      "\n"
     ]
    }
   ],
   "source": [
    "# your code here\n",
    "#We create our queries for creating tables\n",
    "clientsTableQuery = \"\"\"\n",
    "                    CREATE TABLE Clients(\n",
    "                    CustomerID INTEGER,\n",
    "                    CustomerName TEXT,\n",
    "                    CustomerPhone TEXT,\n",
    "                    CustomerEmail TEXT,\n",
    "                    PRIMARY KEY(CustomerID)    \n",
    "                    )\n",
    "                    \"\"\"\n",
    "\n",
    "AirlineTableQuery = \"\"\"                    \n",
    "                    CREATE TABLE AirlineRelations(\n",
    "                    AirlineID INT, \n",
    "                    PRIMARY KEY(AirlineID)\n",
    "                    )\n",
    "                    \"\"\"\n",
    " \n",
    "FlightsTableQuery = \"\"\"                    \n",
    "                    CREATE TABLE Flights(\n",
    "                    AirlineID INTEGER,\n",
    "                    FlightID INTEGER,\n",
    "                    Flight_Departure TEXT,\n",
    "                    Flight_Destination TEXT,\n",
    "                    Flight_Date TEXT,  \n",
    "                    PRIMARY KEY(FlightID)\n",
    "                    FOREIGN KEY(AirlineID) REFERENCES AirlineRelations(AirlineID)\n",
    "                    )\n",
    "                    \"\"\"\n",
    "\n",
    "HotelTableQuery = \"\"\"                  \n",
    "                  CREATE TABLE HotelAffiliations(\n",
    "                  HotelID INTEGER,\n",
    "                  HotelName TEXT,\n",
    "                  HotelLocation TEXT,\n",
    "                  HotelRating INTEGER,\n",
    "                  PRIMARY KEY(HotelID)    \n",
    "                  )\n",
    "                  \"\"\"\n",
    "\n",
    "AirlineBookingTableQuery = \"\"\"                           \n",
    "                           CREATE TABLE AirlineBookings(\n",
    "                           CustomerID INTEGER,\n",
    "                           FlightID INTEGER,\n",
    "                           Flight_Date TEXT,\n",
    "                           FOREIGN KEY(CustomerID) REFERENCES Clients(CustomerID)\n",
    "                           FOREIGN KEY(FlightID) REFERENCES Flights(FlightID)\n",
    "                           )\n",
    "                           \"\"\"\n",
    "\n",
    "HotelBookingTableQuery = \"\"\"\n",
    "                         CREATE TABLE HotelBookings(\n",
    "                         CustomerID INTEGER,\n",
    "                         HotelID INTEGER,\n",
    "                         FOREIGN KEY(CustomerID) REFERENCES Clients(CustomerID)\n",
    "                         FOREIGN KEY(HotelID) REFERENCES HotelAffiliations(HotelID)\n",
    "                         )\n",
    "                         \"\"\"\n",
    "\n",
    "AirlineFeedbackTableQuery = \"\"\"                \n",
    "                            CREATE TABLE AirlineFeedback(\n",
    "                            FeedbackID INTEGER,\n",
    "                            CustomerID INTEGER,\n",
    "                            AirlineID INTEGER,\n",
    "                            Review TEXT,\n",
    "                            PRIMARY KEY(FeedbackID),\n",
    "                            FOREIGN KEY(CustomerID) REFERENCES Clients(ID),\n",
    "                            FOREIGN KEY(AirlineID) REFERENCES Flights(AirlineID)\n",
    "                            )\n",
    "                            \"\"\"\n",
    "\n",
    "HotelFeedbackTableQuery = \"\"\"\n",
    "                            CREATE TABLE HotelFeedback(\n",
    "                            FeedbackID INTEGER,\n",
    "                            CustomerID INTEGER,\n",
    "                            HotelID INTEGER,\n",
    "                            Review TEXT,\n",
    "                            PRIMARY KEY(FeedbackID),\n",
    "                            FOREIGN KEY(CustomerID) REFERENCES Clients(CustomerID),\n",
    "                            FOREIGN KEY(HotelID) REFERENCES HotelAffiliations(HotelID)\n",
    "                            )\n",
    "                            \"\"\"\n",
    "\n",
    "#read our data into main dataframes\n",
    "bookingData = pd.read_csv(\"Data\\BookingDetails.csv\")\n",
    "feedbackData = pd.read_csv(\"Data\\FeedbackDetails.csv\")\n",
    "\n",
    "#split it for each table in our database\n",
    "clientsData = bookingData[[\"CustomerID\", \"CustomerName\", \"CustomerPhone\", \"CustomerEmail\"]].copy()\n",
    "airlineRelationsData = bookingData[[\"AirlineID\"]].copy()\n",
    "flightsData = bookingData[[\"AirlineID\", \"FlightID\", \"Flight_Departure\", \"Flight_Destination\", \"Flight_Date\"]].copy()\n",
    "hotelData = bookingData[[\"HotelID\", \"HotelName\", \"HotelLocation\", \"HotelRating\"]].copy()\n",
    "airlineBookingData = bookingData[[\"CustomerID\", \"FlightID\", \"Flight_Date\"]].copy()\n",
    "hotelBookingData = bookingData[[\"CustomerID\", \"HotelID\"]].copy()\n",
    "airlineFeedbackData = feedbackData[[\"FeedbackID\", \"CustomerID\", \"AirlineID\", \"Review\"]].copy()\n",
    "hotelFeedbackData = feedbackData[[\"FeedbackID\", \"CustomerID\", \"HotelID\", \"Review\"]].copy()\n",
    "\n",
    "#drop na since bookingtable doesnt split between clients, hotel bookings and airline bookings\n",
    "clientsData.dropna(inplace=True)\n",
    "airlineRelationsData.dropna(inplace=True)\n",
    "flightsData.dropna(inplace=True)\n",
    "hotelData.dropna(inplace=True) \n",
    "airlineBookingData.dropna(inplace=True)\n",
    "hotelBookingData.dropna(inplace=True)\n",
    "airlineFeedbackData.dropna(inplace=True)\n",
    "hotelFeedbackData.dropna(inplace=True)\n",
    "\n",
    "#check for duplicates before inserting data\n",
    "clientsData.drop_duplicates(subset=['CustomerID'], inplace = True)\n",
    "airlineRelationsData.drop_duplicates(subset=['AirlineID'], inplace = True)\n",
    "flightsData.drop_duplicates(subset=['FlightID'], inplace = True)\n",
    "hotelData.drop_duplicates(subset=['HotelID'], inplace = True)\n",
    "airlineFeedbackData.drop_duplicates(subset=['FeedbackID'], inplace = True)\n",
    "hotelFeedbackData.drop_duplicates(subset=['FeedbackID'], inplace = True)\n",
    "\n",
    "\n",
    "conn = sql.connect(\"Skyward.db\")\n",
    "cursor = conn.cursor()\n",
    "\n",
    "#drop tables if they exist so we can create\n",
    "cursor.execute(\"DROP TABLE IF EXISTS Clients\")\n",
    "cursor.execute(\"DROP TABLE IF EXISTS AirlineRelations\")\n",
    "cursor.execute(\"DROP TABLE IF EXISTS HotelAffiliations\")\n",
    "cursor.execute(\"DROP TABLE IF EXISTS Flights\")\n",
    "cursor.execute(\"DROP TABLE IF EXISTS AirlineBookings\")\n",
    "cursor.execute(\"DROP TABLE IF EXISTS HotelBookings\")\n",
    "cursor.execute(\"DROP TABLE IF EXISTS AirlineFeedback\")\n",
    "cursor.execute(\"DROP TABLE IF EXISTS HotelFeedback\")\n",
    " \n",
    "#creating tables    \n",
    "cursor.execute(clientsTableQuery)\n",
    "cursor.execute(AirlineTableQuery)\n",
    "cursor.execute(FlightsTableQuery)\n",
    "cursor.execute(HotelTableQuery)\n",
    "cursor.execute(AirlineBookingTableQuery)\n",
    "cursor.execute(HotelBookingTableQuery)\n",
    "cursor.execute(AirlineFeedbackTableQuery)\n",
    "cursor.execute(HotelFeedbackTableQuery)\n",
    "\n",
    "#inserting data\n",
    "clientsData.to_sql(\"Clients\", conn, if_exists='append', index=False)\n",
    "airlineRelationsData.to_sql(\"AirlineRelations\", conn, if_exists='append', index=False)\n",
    "flightsData.to_sql(\"Flights\", conn, if_exists='append', index=False)\n",
    "hotelData.to_sql(\"HotelAffiliations\", conn, if_exists='append', index=False)\n",
    "airlineBookingData.to_sql(\"AirlineBookings\", conn, if_exists='append', index=False)\n",
    "hotelBookingData.to_sql(\"HotelBookings\", conn, if_exists='append', index=False)\n",
    "airlineFeedbackData.to_sql(\"AirlineFeedback\", conn, if_exists='append', index=False)\n",
    "hotelFeedbackData.to_sql(\"HotelFeedback\", conn, if_exists='append', index=False)\n",
    "\n",
    "print()"
   ]
  },
  {
   "cell_type": "markdown",
   "metadata": {},
   "source": [
    "## Q2. Find the total number of bookings made for each hotel. Display the hotel name and the corresponding number of bookings. (10 Points)"
   ]
  },
  {
   "cell_type": "code",
   "execution_count": 214,
   "metadata": {},
   "outputs": [
    {
     "data": {
      "text/plain": [
       "[('Opal Motel', 11),\n",
       " ('Diamond Plaza', 6),\n",
       " ('Golden Suites', 16),\n",
       " ('Silver Villa', 10),\n",
       " ('Emerald Motel', 15),\n",
       " ('Sapphire Villa', 14),\n",
       " ('Jade Motel', 5),\n",
       " ('Jade Suites', 7),\n",
       " ('Pearl Resort', 12),\n",
       " ('Emerald Resort', 9),\n",
       " ('Golden Inn', 14),\n",
       " ('Jade Resort', 11),\n",
       " ('Silver Palace', 8),\n",
       " ('Silver Resort', 15),\n",
       " ('Diamond Villa', 10),\n",
       " ('Sapphire Villa', 8),\n",
       " ('Diamond Resort', 15),\n",
       " ('Pearl Hideaway', 8),\n",
       " ('Opal Suites', 9),\n",
       " ('Golden Retreat', 7),\n",
       " ('Opal Plaza', 10),\n",
       " ('Ruby Hideaway', 8),\n",
       " ('Opal Inn', 4),\n",
       " ('Diamond Inn', 14),\n",
       " ('Jade Suites', 10),\n",
       " ('Sapphire Hideaway', 10),\n",
       " ('Pearl Lodge', 5),\n",
       " ('Golden Resort', 12),\n",
       " ('Diamond Suites', 10),\n",
       " ('Golden Resort', 6),\n",
       " ('Jade Lodge', 9),\n",
       " ('Golden Hideaway', 9),\n",
       " ('Opal Motel', 4),\n",
       " ('Diamond Inn', 15),\n",
       " ('Ruby Plaza', 8),\n",
       " ('Ruby Palace', 8),\n",
       " ('Jade Retreat', 9),\n",
       " ('Pearl Motel', 7),\n",
       " ('Crystal Motel', 11),\n",
       " ('Sapphire Suites', 11),\n",
       " ('Silver Hideaway', 11),\n",
       " ('Pearl Plaza', 8),\n",
       " ('Golden Villa', 10),\n",
       " ('Diamond Inn', 14),\n",
       " ('Emerald Palace', 14),\n",
       " ('Golden Lodge', 8),\n",
       " ('Ruby Resort', 7),\n",
       " ('Sapphire Motel', 12),\n",
       " ('Golden Plaza', 8),\n",
       " ('Jade Suites', 6)]"
      ]
     },
     "execution_count": 214,
     "metadata": {},
     "output_type": "execute_result"
    }
   ],
   "source": [
    "# your code here\n",
    "query = \"\"\"\n",
    "        SELECT HotelName, COUNT(*)\n",
    "        FROM HotelBookings b, HotelAffiliations a\n",
    "        WHERE b.HotelID = a.HotelID\n",
    "        GROUP BY b.HotelID\n",
    "        \"\"\"\n",
    "\n",
    "cursor.execute(query)\n",
    "cursor.fetchall()"
   ]
  },
  {
   "cell_type": "markdown",
   "metadata": {},
   "source": [
    "## Q3. Retrieve the name and contact details of clients who have provided feedback for both flights and hotels. Ensure there are no duplicate entries in your result. (10 Points)\n"
   ]
  },
  {
   "cell_type": "code",
   "execution_count": 216,
   "metadata": {},
   "outputs": [
    {
     "data": {
      "text/plain": [
       "[('Mason Jones', '555-1751791', 'mason.jones@mail.com'),\n",
       " ('Logan Garcia', '555-1786594', 'logan.garcia@mail.com'),\n",
       " ('Sophia Garcia', '555-6778980', 'sophia.garcia@mail.com'),\n",
       " ('Liam Davis', '555-8686220', 'liam.davis@mail.com'),\n",
       " ('Mason Brown', '555-0826096', 'mason.brown@mail.com'),\n",
       " ('Logan Martinez', '555-6781352', 'logan.martinez@mail.com'),\n",
       " ('Mason Brown', '555-7018305', 'mason.brown@mail.com'),\n",
       " ('Mia Davis', '555-4185374', 'mia.davis@mail.com'),\n",
       " ('Ava Smith', '555-8868423', 'ava.smith@mail.com'),\n",
       " ('John Johnson', '555-3857295', 'john.johnson@mail.com'),\n",
       " ('Olivia Miller', '555-7935514', 'olivia.miller@mail.com'),\n",
       " ('John Brown', '555-5988133', 'john.brown@mail.com'),\n",
       " ('Ava Brown', '555-5172056', 'ava.brown@mail.com'),\n",
       " ('Liam Davis', '555-2949165', 'liam.davis@mail.com'),\n",
       " ('Olivia Martinez', '555-1094118', 'olivia.martinez@mail.com'),\n",
       " ('Mia Martinez', '555-0308937', 'mia.martinez@mail.com'),\n",
       " ('Mason Brown', '555-3196635', 'mason.brown@mail.com'),\n",
       " ('Ethan Miller', '555-7366655', 'ethan.miller@mail.com'),\n",
       " ('Ava Rodriguez', '555-0302814', 'ava.rodriguez@mail.com'),\n",
       " ('Emma Brown', '555-7136775', 'emma.brown@mail.com'),\n",
       " ('Liam Williams', '555-9372149', 'liam.williams@mail.com'),\n",
       " ('Logan Johnson', '555-0898213', 'logan.johnson@mail.com'),\n",
       " ('Ava Smith', '555-4286562', 'ava.smith@mail.com'),\n",
       " ('Mason Smith', '555-9287719', 'mason.smith@mail.com'),\n",
       " ('Ethan Jones', '555-0003961', 'ethan.jones@mail.com'),\n",
       " ('Liam Brown', '555-5183574', 'liam.brown@mail.com'),\n",
       " ('Liam Brown', '555-1772445', 'liam.brown@mail.com'),\n",
       " ('Emma Williams', '555-8283458', 'emma.williams@mail.com'),\n",
       " ('Liam Brown', '555-0166595', 'liam.brown@mail.com'),\n",
       " ('John Smith', '555-5329141', 'john.smith@mail.com'),\n",
       " ('Mia Williams', '555-6569856', 'mia.williams@mail.com'),\n",
       " ('Liam Miller', '555-3750839', 'liam.miller@mail.com'),\n",
       " ('Mason Martinez', '555-4087377', 'mason.martinez@mail.com'),\n",
       " ('Olivia Rodriguez', '555-1943374', 'olivia.rodriguez@mail.com'),\n",
       " ('Sophia Smith', '555-3170326', 'sophia.smith@mail.com'),\n",
       " ('Emma Smith', '555-0707146', 'emma.smith@mail.com'),\n",
       " ('Olivia Martinez', '555-1759381', 'olivia.martinez@mail.com'),\n",
       " ('Logan Brown', '555-6902160', 'logan.brown@mail.com'),\n",
       " ('Ethan Martinez', '555-3339628', 'ethan.martinez@mail.com'),\n",
       " ('Liam Jones', '555-3294076', 'liam.jones@mail.com'),\n",
       " ('Mia Jones', '555-3274877', 'mia.jones@mail.com'),\n",
       " ('Emma Miller', '555-9672748', 'emma.miller@mail.com'),\n",
       " ('Mia Johnson', '555-8471012', 'mia.johnson@mail.com'),\n",
       " ('Olivia Miller', '555-8743718', 'olivia.miller@mail.com'),\n",
       " ('Emma Davis', '555-8584852', 'emma.davis@mail.com'),\n",
       " ('Ava Williams', '555-0306340', 'ava.williams@mail.com'),\n",
       " ('Ethan Rodriguez', '555-5432713', 'ethan.rodriguez@mail.com'),\n",
       " ('Sophia Garcia', '555-4477984', 'sophia.garcia@mail.com'),\n",
       " ('Olivia Williams', '555-0780377', 'olivia.williams@mail.com'),\n",
       " ('John Johnson', '555-8621989', 'john.johnson@mail.com'),\n",
       " ('Ethan Davis', '555-0282897', 'ethan.davis@mail.com'),\n",
       " ('Olivia Miller', '555-6375667', 'olivia.miller@mail.com'),\n",
       " ('Olivia Williams', '555-0618229', 'olivia.williams@mail.com'),\n",
       " ('Logan Garcia', '555-8723852', 'logan.garcia@mail.com'),\n",
       " ('Olivia Garcia', '555-0514945', 'olivia.garcia@mail.com'),\n",
       " ('Mason Brown', '555-5765623', 'mason.brown@mail.com'),\n",
       " ('John Williams', '555-9373187', 'john.williams@mail.com'),\n",
       " ('Mia Miller', '555-8785693', 'mia.miller@mail.com'),\n",
       " ('Olivia Johnson', '555-8142328', 'olivia.johnson@mail.com'),\n",
       " ('Ava Davis', '555-4376898', 'ava.davis@mail.com'),\n",
       " ('Ava Jones', '555-2606180', 'ava.jones@mail.com'),\n",
       " ('Sophia Johnson', '555-2448547', 'sophia.johnson@mail.com'),\n",
       " ('Logan Miller', '555-2271807', 'logan.miller@mail.com'),\n",
       " ('Mason Brown', '555-4291570', 'mason.brown@mail.com'),\n",
       " ('Sophia Rodriguez', '555-7717570', 'sophia.rodriguez@mail.com'),\n",
       " ('Sophia Davis', '555-7585879', 'sophia.davis@mail.com'),\n",
       " ('Liam Martinez', '555-3004787', 'liam.martinez@mail.com'),\n",
       " ('Sophia Brown', '555-0699775', 'sophia.brown@mail.com'),\n",
       " ('Mia Rodriguez', '555-3597936', 'mia.rodriguez@mail.com'),\n",
       " ('Mason Davis', '555-6250499', 'mason.davis@mail.com'),\n",
       " ('Mason Miller', '555-8064585', 'mason.miller@mail.com'),\n",
       " ('John Davis', '555-5153122', 'john.davis@mail.com'),\n",
       " ('John Martinez', '555-1201810', 'john.martinez@mail.com'),\n",
       " ('Liam Johnson', '555-5991579', 'liam.johnson@mail.com'),\n",
       " ('Logan Williams', '555-2061905', 'logan.williams@mail.com'),\n",
       " ('Ava Garcia', '555-3577079', 'ava.garcia@mail.com'),\n",
       " ('John Smith', '555-3616974', 'john.smith@mail.com'),\n",
       " ('Mason Brown', '555-0258878', 'mason.brown@mail.com'),\n",
       " ('Mason Jones', '555-9859933', 'mason.jones@mail.com'),\n",
       " ('Emma Miller', '555-4005422', 'emma.miller@mail.com'),\n",
       " ('Mia Williams', '555-4798996', 'mia.williams@mail.com'),\n",
       " ('Logan Brown', '555-8853740', 'logan.brown@mail.com'),\n",
       " ('Sophia Jones', '555-5176700', 'sophia.jones@mail.com'),\n",
       " ('Olivia Martinez', '555-3255322', 'olivia.martinez@mail.com'),\n",
       " ('Sophia Martinez', '555-0293096', 'sophia.martinez@mail.com'),\n",
       " ('Ethan Smith', '555-4014268', 'ethan.smith@mail.com'),\n",
       " ('Mia Smith', '555-2197055', 'mia.smith@mail.com'),\n",
       " ('Olivia Davis', '555-6970002', 'olivia.davis@mail.com'),\n",
       " ('Mason Jones', '555-0497376', 'mason.jones@mail.com'),\n",
       " ('Liam Davis', '555-9816387', 'liam.davis@mail.com'),\n",
       " ('Logan Johnson', '555-5232222', 'logan.johnson@mail.com'),\n",
       " ('Ethan Rodriguez', '555-5969914', 'ethan.rodriguez@mail.com'),\n",
       " ('Ethan Rodriguez', '555-7714590', 'ethan.rodriguez@mail.com'),\n",
       " ('Sophia Garcia', '555-1797618', 'sophia.garcia@mail.com'),\n",
       " ('Ethan Smith', '555-9454338', 'ethan.smith@mail.com'),\n",
       " ('Ava Rodriguez', '555-1763037', 'ava.rodriguez@mail.com'),\n",
       " ('Logan Martinez', '555-6346303', 'logan.martinez@mail.com'),\n",
       " ('Emma Garcia', '555-3832976', 'emma.garcia@mail.com'),\n",
       " ('Ava Williams', '555-8246125', 'ava.williams@mail.com'),\n",
       " ('Mia Miller', '555-2636922', 'mia.miller@mail.com'),\n",
       " ('Ethan Smith', '555-1189744', 'ethan.smith@mail.com'),\n",
       " ('Liam Brown', '555-3328325', 'liam.brown@mail.com'),\n",
       " ('Olivia Davis', '555-7937883', 'olivia.davis@mail.com'),\n",
       " ('Ava Williams', '555-1519142', 'ava.williams@mail.com'),\n",
       " ('Ava Miller', '555-0921939', 'ava.miller@mail.com'),\n",
       " ('John Smith', '555-4394283', 'john.smith@mail.com'),\n",
       " ('John Smith', '555-3493476', 'john.smith@mail.com'),\n",
       " ('Sophia Johnson', '555-8333408', 'sophia.johnson@mail.com'),\n",
       " ('Mason Miller', '555-8706942', 'mason.miller@mail.com')]"
      ]
     },
     "execution_count": 216,
     "metadata": {},
     "output_type": "execute_result"
    }
   ],
   "source": [
    "# your code here\n",
    "query = \"\"\"\n",
    "        SELECT DISTINCT CustomerName, CustomerPhone, CustomerEmail\n",
    "        FROM Clients c, HotelFeedback h, AirlineFeedback a\n",
    "        WHERE c.CustomerID = h.CustomerID AND\n",
    "              h.CustomerID = a.CustomerID\n",
    "        \"\"\"\n",
    "\n",
    "cursor.execute(query)\n",
    "cursor.fetchall()"
   ]
  },
  {
   "cell_type": "markdown",
   "metadata": {},
   "source": [
    "## Q4. Identify hotels that have a feedback rating lower than the average feedback rating across all hotels. List their names and ratings. (10 Points)\n"
   ]
  },
  {
   "cell_type": "code",
   "execution_count": 218,
   "metadata": {},
   "outputs": [
    {
     "data": {
      "text/plain": [
       "[('Opal Motel', 2),\n",
       " ('Diamond Plaza', 2),\n",
       " ('Sapphire Villa', 2),\n",
       " ('Jade Motel', 2),\n",
       " ('Pearl Resort', 2),\n",
       " ('Emerald Resort', 3),\n",
       " ('Golden Inn', 3),\n",
       " ('Jade Resort', 2),\n",
       " ('Silver Palace', 2),\n",
       " ('Pearl Hideaway', 1),\n",
       " ('Opal Suites', 1),\n",
       " ('Opal Plaza', 2),\n",
       " ('Opal Inn', 1),\n",
       " ('Diamond Inn', 2),\n",
       " ('Pearl Lodge', 1),\n",
       " ('Golden Resort', 1),\n",
       " ('Golden Resort', 3),\n",
       " ('Golden Hideaway', 3),\n",
       " ('Opal Motel', 1),\n",
       " ('Ruby Palace', 1),\n",
       " ('Pearl Motel', 3),\n",
       " ('Sapphire Suites', 2),\n",
       " ('Pearl Plaza', 2),\n",
       " ('Golden Villa', 3),\n",
       " ('Golden Lodge', 2),\n",
       " ('Ruby Resort', 3),\n",
       " ('Golden Plaza', 2)]"
      ]
     },
     "execution_count": 218,
     "metadata": {},
     "output_type": "execute_result"
    }
   ],
   "source": [
    "# your code here\n",
    "query = \"\"\"\n",
    "        SELECT HotelName, HotelRating\n",
    "        FROM HotelAffiliations\n",
    "        WHERE HotelRating < (SELECT AVG(HotelRating)\n",
    "                             FROM HotelAffiliations)\n",
    "        \"\"\"\n",
    "\n",
    "cursor.execute(query)\n",
    "cursor.fetchall()"
   ]
  },
  {
   "cell_type": "markdown",
   "metadata": {},
   "source": [
    "## Q5. Find clients who have stayed in at least three different hotels and flown with at least two different airlines. Display their names and total number of bookings. (10 Points)\n"
   ]
  },
  {
   "cell_type": "code",
   "execution_count": 219,
   "metadata": {},
   "outputs": [
    {
     "data": {
      "text/plain": [
       "[]"
      ]
     },
     "execution_count": 219,
     "metadata": {},
     "output_type": "execute_result"
    }
   ],
   "source": [
    "# your code here\n",
    "query = \"\"\"\n",
    "        SELECT DISTINCT c.CustomerName, COUNT(DISTINCT HotelID) + COUNT(DISTINCT FlightID)\n",
    "        FROM Clients c, AirlineBookings a, HotelBookings h\n",
    "        WHERE c.CustomerID = a.CustomerID AND\n",
    "              a.CustomerID = h.CustomerID AND\n",
    "              c.CustomerID IN (SELECT CustomerID\n",
    "                               FROM HotelBookings\n",
    "                               GROUP BY CustomerID\n",
    "                               HAVING COUNT(DISTINCT HotelID) >= 3) AND\n",
    "              c.CustomerID IN (SELECT CustomerID\n",
    "                               FROM AirlineBookings b, Flights f\n",
    "                               WHERE b.FlightID = f.FlightID\n",
    "                               GROUP BY CustomerID\n",
    "                               HAVING COUNT(DISTINCT f.AirLineID) >= 2)\n",
    "       GROUP BY c.CustomerID, h.HotelID\n",
    "        \"\"\"\n",
    "\n",
    "cursor.execute(query)\n",
    "cursor.fetchall()"
   ]
  },
  {
   "cell_type": "markdown",
   "metadata": {},
   "source": [
    "## Q6 - **Bonus/Challenge**: Do the same in Q3 without using the keywords: \"HAVING\" and \"GROUP BY\". Make a comparison on the two processes (one using the aggregate operators and this) "
   ]
  },
  {
   "cell_type": "code",
   "execution_count": 220,
   "metadata": {},
   "outputs": [],
   "source": [
    "# your code here\n",
    "#I dont think my design is suitable for this question since I didnt use either aggregate operators\n",
    "#nor group by to solve Q3. However, I wouldve wanted to solve this question :p"
   ]
  },
  {
   "cell_type": "markdown",
   "metadata": {},
   "source": [
    "# 2nd SET OF QUESTIONS: DATA ANALYSIS WITH VISUALIZATION TOOLS\n",
    "\n",
    "In the 2nd part of this hw, you are to deal with the famous dataset of Titanic [1]. Answer the following questions, using visualization tools, and comment on your work."
   ]
  },
  {
   "cell_type": "markdown",
   "metadata": {},
   "source": [
    "## Q1. Read the Titanic dataset into a DataFrame. Using a pivot table, analyze the survival rate by gender and class.\n"
   ]
  },
  {
   "cell_type": "code",
   "execution_count": 221,
   "metadata": {},
   "outputs": [
    {
     "data": {
      "text/html": [
       "<div>\n",
       "<style scoped>\n",
       "    .dataframe tbody tr th:only-of-type {\n",
       "        vertical-align: middle;\n",
       "    }\n",
       "\n",
       "    .dataframe tbody tr th {\n",
       "        vertical-align: top;\n",
       "    }\n",
       "\n",
       "    .dataframe thead th {\n",
       "        text-align: right;\n",
       "    }\n",
       "</style>\n",
       "<table border=\"1\" class=\"dataframe\">\n",
       "  <thead>\n",
       "    <tr style=\"text-align: right;\">\n",
       "      <th>Pclass</th>\n",
       "      <th>1</th>\n",
       "      <th>2</th>\n",
       "      <th>3</th>\n",
       "    </tr>\n",
       "    <tr>\n",
       "      <th>Sex</th>\n",
       "      <th></th>\n",
       "      <th></th>\n",
       "      <th></th>\n",
       "    </tr>\n",
       "  </thead>\n",
       "  <tbody>\n",
       "    <tr>\n",
       "      <th>female</th>\n",
       "      <td>0.968085</td>\n",
       "      <td>0.921053</td>\n",
       "      <td>0.500000</td>\n",
       "    </tr>\n",
       "    <tr>\n",
       "      <th>male</th>\n",
       "      <td>0.368852</td>\n",
       "      <td>0.157407</td>\n",
       "      <td>0.135447</td>\n",
       "    </tr>\n",
       "  </tbody>\n",
       "</table>\n",
       "</div>"
      ],
      "text/plain": [
       "Pclass         1         2         3\n",
       "Sex                                 \n",
       "female  0.968085  0.921053  0.500000\n",
       "male    0.368852  0.157407  0.135447"
      ]
     },
     "execution_count": 221,
     "metadata": {},
     "output_type": "execute_result"
    }
   ],
   "source": [
    "# your code here\n",
    "\n",
    "#Read data and create pivot table\n",
    "df = pd.read_csv(\"Data/titanic.csv\")\n",
    "pivot = pd.pivot_table(df, values = \"Survived\", index = \"Sex\", columns = \"Pclass\", aggfunc = np.mean)\n",
    "pivot"
   ]
  },
  {
   "cell_type": "markdown",
   "metadata": {},
   "source": [
    "As we can see, across both genders going from class 1 through 3, 1 has the highest surviving rates\n",
    "while class 3 has the lowest by nearly 50% for women and 33% for men. For genders, females had a significent edge across all classes over men in their rates, having a 60% difference in class 1, 77% in class 2, and 37% in class 3."
   ]
  },
  {
   "cell_type": "markdown",
   "metadata": {},
   "source": [
    "## Q2. Create a histogram showcasing the age distribution of passengers. Overlay this with a KDE plot. Comment on the most common age group aboard the Titanic.\n"
   ]
  },
  {
   "cell_type": "code",
   "execution_count": 222,
   "metadata": {},
   "outputs": [
    {
     "data": {
      "image/png": "[encoded data removed]",
      "text/plain": [
       "<Figure size 640x480 with 1 Axes>"
      ]
     },
     "metadata": {},
     "output_type": "display_data"
    }
   ],
   "source": [
    "sns.histplot(df[\"Age\"], kde = True)\n",
    "plt.show()"
   ]
  },
  {
   "cell_type": "markdown",
   "metadata": {},
   "source": [
    "As we can see, the highest age group was between 20 to 30, while there is also a good ammount of people in the ages 30-50 which might indicate that the trip wasnt solely for entertainment nor it was for old people but rather somewhere in the middle or it had a lot of buisnessmen and starters. And the spike for ages 0-4 indicate having babies, meaning many atendees where parents."
   ]
  },
  {
   "cell_type": "markdown",
   "metadata": {},
   "source": [
    "## Q3. Using a pie chart, illustrate the embarkation points for Titanic passengers. Identify the port with the highest boarding. Analyze the age and sex distribution from this port. Does this distribution reflect the \"women and children first\" evacuation policy?"
   ]
  },
  {
   "cell_type": "code",
   "execution_count": 223,
   "metadata": {},
   "outputs": [
    {
     "data": {
      "image/png": "[encoded data removed]",
      "text/plain": [
       "<Figure size 640x480 with 1 Axes>"
      ]
     },
     "metadata": {},
     "output_type": "display_data"
    }
   ],
   "source": [
    "# your code here\n",
    "\n",
    "#Get count of each value in embarked and make piechart.\n",
    "s = df.value_counts(\"Embarked\")\n",
    "ax = plt.pie(s,labels =  s.index)\n",
    "plt.show()"
   ]
  },
  {
   "cell_type": "markdown",
   "metadata": {},
   "source": [
    "So S is the most embarked , now we get the distribution of gender and age for that port each\n",
    "independantly."
   ]
  },
  {
   "cell_type": "code",
   "execution_count": 224,
   "metadata": {},
   "outputs": [
    {
     "name": "stdout",
     "output_type": "stream",
     "text": [
      "Sex     Embarked\n",
      "female  S           203\n",
      "male    S           441\n",
      "Name: Embarked, dtype: int64\n"
     ]
    },
    {
     "data": {
      "image/png": "[encoded data removed]",
      "text/plain": [
       "<Figure size 640x480 with 1 Axes>"
      ]
     },
     "metadata": {},
     "output_type": "display_data"
    }
   ],
   "source": [
    "sPortDf = df[df[\"Embarked\"] == \"S\"] #Create subDataframe for port S only\n",
    "\n",
    "#Show distribution by gender\n",
    "genderPortDf = sPortDf.groupby(\"Sex\")[\"Embarked\"].value_counts() \n",
    "print(genderPortDf)\n",
    "\n",
    "\n",
    "#Show distribution by age\n",
    "sns.histplot(data=sPortDf[[\"Age\"]])\n",
    "\n",
    "plt.title('Distribution of Age on port S')\n",
    "plt.xlabel('Age')\n",
    "plt.ylabel('Frequency')\n",
    "plt.show()"
   ]
  },
  {
   "cell_type": "markdown",
   "metadata": {},
   "source": [
    "As shown above, 441 males were embarked to board S, compared to only 203 females, meaning that this\n",
    "board didnt follow \"women first\" policy. On the other hand, age had much more adults embarked onto\n",
    "board S. Although there is a spike in ages from 0 to 4 and some ammount of children below 18 was there, adults make up most of our distribution, indicating that board S didnt follow \"women and children first\" evacuation policy"
   ]
  },
  {
   "cell_type": "markdown",
   "metadata": {},
   "source": [
    "## Q4. Create a scatter plot comparing age and fare. Comment on any correlations or patterns you observe."
   ]
  },
  {
   "cell_type": "code",
   "execution_count": 225,
   "metadata": {
    "scrolled": true
   },
   "outputs": [
    {
     "data": {
      "image/png": "[encoded data removed]",
      "text/plain": [
       "<Figure size 640x480 with 1 Axes>"
      ]
     },
     "metadata": {},
     "output_type": "display_data"
    }
   ],
   "source": [
    "# your code here\n",
    "plt.scatter(df[\"Age\"], df[\"Fare\"])\n",
    "plt.show()"
   ]
  },
  {
   "cell_type": "markdown",
   "metadata": {},
   "source": [
    "There doesnt seem to be a correlation between age and fare."
   ]
  },
  {
   "cell_type": "markdown",
   "metadata": {},
   "source": [
    "## Q5. Group the dataset by 'Embarked' and 'Pclass' and visualize the mean fare for each combination using a bar chart. Comment on the fare differences based on embarkation ports and classes.\n"
   ]
  },
  {
   "cell_type": "code",
   "execution_count": 226,
   "metadata": {},
   "outputs": [
    {
     "data": {
      "image/png": "[encoded data removed]",
      "text/plain": [
       "<Figure size 640x480 with 1 Axes>"
      ]
     },
     "metadata": {},
     "output_type": "display_data"
    }
   ],
   "source": [
    "# your code here\n",
    "\n",
    "#Group data then plot a bar chart\n",
    "subDf = df.groupby([\"Embarked\", \"Pclass\"]).mean()[\"Fare\"]\n",
    "subDf.plot(kind='bar', title='Embarked-Pclass Versus Fare', ylabel='Fare', xlabel='Embarked-Pclass')\n",
    "plt.show()"
   ]
  },
  {
   "cell_type": "markdown",
   "metadata": {},
   "source": [
    "Overall going through Pclasses 1 to 3, 1 is the most expensive while 3 is the cheapest across all embarking points. For embarkation points, however, it seems that C has the highest fare, Q has the second, while S has the least"
   ]
  },
  {
   "cell_type": "markdown",
   "metadata": {},
   "source": [
    "# PLAGIARISM POLICY\n",
    "\n",
    "In the interest of maintaining a fair and honest academic environment, this course strictly adheres to a zero-tolerance policy regarding plagiarism. \n",
    "Accordingly, all assignments must reflect individual effort and understanding. While abstract discussions with peers about concepts are encouraged, sharing or copying specific solutions, code, or pseudocode is not permitted and will be treated as plagiarism. This policy includes work sourced from the internet, publications, and AI tools like ChatGPT and GitHub Copilot. **USE THEM RESPONSIBLY**. For example, you can utilize them to enhance understanding and support your original work, not to replace it. Submitting work that is not entirely your own creation will be regarded as a violation of academic integrity. It is vital to use all resources, including AI, in a manner that supports your educational development without compromising the principles of academic honesty. \n",
    "\n",
    "If in doubt, do not hesitate to seek guidance from the course staff - we are here to help, with an aim to foster a learning environment based on trust, respect, and responsibility.\n"
   ]
  },
  {
   "cell_type": "markdown",
   "metadata": {},
   "source": [
    "# REFERENCES\n",
    "[1] Kaggle. (2023). Titanic: Machine Learning from Disaster [Data set]. Kaggle Inc. https://www.kaggle.com/c/titanic/data"
   ]
  },
  {
   "cell_type": "markdown",
   "metadata": {},
   "source": [
    "# ACKNOWLEDGMENTS\n",
    "\n",
    "• The design and development of this homework have been assisted by AI tools, with a special mention to ChatGPT for its assistance in conceptualizing the assignment and refining the wording. \n"
   ]
  }
 ],
 "metadata": {
  "kernelspec": {
   "display_name": "Python 3 (ipykernel)",
   "language": "python",
   "name": "python3"
  },
  "language_info": {
   "codemirror_mode": {
    "name": "ipython",
    "version": 3
   },
   "file_extension": ".py",
   "mimetype": "text/x-python",
   "name": "python",
   "nbconvert_exporter": "python",
   "pygments_lexer": "ipython3",
   "version": "3.9.13"
  }
 },
 "nbformat": 4,
 "nbformat_minor": 2
}
